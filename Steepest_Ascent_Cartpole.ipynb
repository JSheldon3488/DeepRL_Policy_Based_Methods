{
 "cells": [
  {
   "cell_type": "markdown",
   "metadata": {
    "collapsed": true,
    "pycharm": {
     "name": "#%% md\n"
    }
   },
   "source": [
    "# Steepest Ascent Hill Climbing\n",
    "\n",
    "---\n",
    "\n",
    "This notebook will train an Agent to solve the OpenAI Gym [Cartpole](https://gym.openai.com/envs/CartPole-v0/) environment using steepest ascent hill climbing.\n",
    "This is a policy based method used to find the optimal policy. This algorithm is a slightly more complex than Vanilla hill climbing\n",
    "but I still expect it to struggle with stability issues. I good explanation of why this algorithm fails in practice can be\n",
    "found [here](https://www.javatpoint.com/hill-climbing-algorithm-in-ai). I will test this algorithm by running the simulations with different\n",
    "random seeds and see how the results differ. All results will be saved in the saved_scores directory and can be viewed in\n",
    "the images directory. Also comparisons between agents can be seen by using the comparisons.ipynb."
   ]
  },
  {
   "cell_type": "markdown",
   "source": [
    "### Import the Necessary Packages"
   ],
   "metadata": {
    "collapsed": false,
    "pycharm": {
     "name": "#%% md\n"
    }
   }
  },
  {
   "cell_type": "code",
   "execution_count": 1,
   "outputs": [],
   "source": [
    "import gym\n",
    "import numpy as np\n",
    "import copy\n",
    "from collections import deque\n",
    "import matplotlib.pyplot as plt\n",
    "%matplotlib inline\n",
    "from utils import *\n"
   ],
   "metadata": {
    "collapsed": false,
    "pycharm": {
     "name": "#%%\n"
    }
   }
  },
  {
   "cell_type": "markdown",
   "source": [
    "### Define the Policy Network\n",
    "\n",
    "The policy network is what we use to transform the state into a policy. For steepest ascent hill climbing this is a very simple linear\n",
    "function that is then ran through a softmax function to generate probabilities."
   ],
   "metadata": {
    "collapsed": false
   }
  },
  {
   "cell_type": "code",
   "execution_count": 2,
   "outputs": [],
   "source": [
    "class Policy():\n",
    "    \"\"\" Policy represented as Neural Network \"\"\"\n",
    "    def __init__(self, env, seed=0):\n",
    "        \"\"\"Initialize everything you need to run the policy\n",
    "\n",
    "        :param env: environment this policy will be representing\n",
    "        :param seed: for random weight generation\n",
    "        \"\"\"\n",
    "        np.random.seed(seed)\n",
    "        self.env= env\n",
    "        self.state_space = env.observation_space.shape[0]\n",
    "        self.action_space = env.action_space.n\n",
    "        self.weights = 0.0001*np.random.rand(self.state_space, self.action_space)\n",
    "\n",
    "    def forward_pass(self,state):\n",
    "        x = np.dot(state, self.weights)\n",
    "        return np.exp(x)/sum(np.exp(x)) #Softmax\n",
    "\n",
    "    def get_action(self,state):\n",
    "        probs = self.forward_pass(state)\n",
    "        action = np.argmax(probs)\n",
    "        return action\n"
   ],
   "metadata": {
    "collapsed": false,
    "pycharm": {
     "name": "#%%\n"
    }
   }
  },
  {
   "cell_type": "markdown",
   "source": [
    "### Train the Agent a single time with Steepest Ascent Hill Climbing\n",
    "This is a single simulation of the Steepest Ascnet  Hill Climbing algorithm.\n",
    "Note that the simulation will be over when the environment is solved. (Average Score of 100 episodes > 195)"
   ],
   "metadata": {
    "collapsed": false
   }
  },
  {
   "cell_type": "code",
   "execution_count": 3,
   "outputs": [
    {
     "name": "stdout",
     "output_type": "stream",
     "text": [
      "Episode 100\tAverage Score: 101.00\n",
      "Episode 200\tAverage Score: 111.81\n",
      "Episode 300\tAverage Score: 124.00\n",
      "Environment solved in 297 episodes!\tAverage Score: 195.17\n"
     ]
    }
   ],
   "source": [
    "env = gym.make(\"CartPole-v0\")\n",
    "policy = Policy(env=env, seed=0)\n",
    "\n",
    "def steepest_ascent(num_episodes=2000, max_time=1000, num_options=5, gamma=1.0, print_every=100, noise_scale=0.01):\n",
    "    \"\"\"Implementation of Single Steepest Ascent Hill Climbing. The different is that from the current policy you will\n",
    "    generate num_options different policies and try them all and pick the best one. As opposed to generating 1 new policy\n",
    "    from the current policy and picking it if it improves upon previous policy. So each policy will have num_options to\n",
    "    choose from for its next policy.\n",
    "\n",
    "    :param n_episodes: max number of training episodes\n",
    "    :param max_t: max number of timesteps per episode\n",
    "    :param num_options: This is the number of neighboring states we will consider each iteration\n",
    "    :param gamma: discount rate\n",
    "    :param print_every: how often to print average score\n",
    "    :param noise_scale: std deviation of additive noise\n",
    "    :return: list of scores from the episodes\n",
    "    \"\"\"\n",
    "    # Setup\n",
    "    scores_deque = deque(maxlen=100)\n",
    "    scores = []\n",
    "    best_reward = -np.inf\n",
    "    best_weights = policy.weights\n",
    "\n",
    "    for i_episode in range(1, (num_episodes+1)):\n",
    "        #----------     Steepest Ascent Algorithm   ----------#\n",
    "        temp_best_reward = best_reward\n",
    "        prev_weights = policy.weights\n",
    "        temp_best_weights = policy.weights\n",
    "        \n",
    "        # Run num_options episodes with different policy weights\n",
    "        for option in range(num_options):\n",
    "            episode_rewards = []\n",
    "            # Run an enitre episode with new policy\n",
    "            state = env.reset()\n",
    "            policy.weights += noise_scale * np.random.rand(*policy.weights.shape) #Random noise to generate new policy\n",
    "            for t in range(max_time):\n",
    "                action = policy.get_action(state)\n",
    "                state, reward, done, _ = env.step(action)\n",
    "                episode_rewards.append(reward)\n",
    "                if done:\n",
    "                    break\n",
    "\n",
    "            # Keep track of best new policy\n",
    "            discounts = [gamma**i for i in range(len(episode_rewards)+1)]\n",
    "            discount_reward = sum([a*b for a,b in zip(discounts, episode_rewards)])\n",
    "            if discount_reward > temp_best_reward:\n",
    "                temp_best_reward = discount_reward\n",
    "                temp_best_weights = policy.weights\n",
    "            #Reset policy for next iteration\n",
    "            policy.weights = prev_weights\n",
    "\n",
    "\n",
    "        # Everything else is the same as Vanilla Hill Climbing\n",
    "        # Save reward from the direction we actually take (the best/steepest direction)\n",
    "        scores_deque.append(temp_best_reward)\n",
    "        scores.append(temp_best_reward)\n",
    "\n",
    "        # Update Network Weights for next Episode\n",
    "        if temp_best_reward > best_reward: #Found better weights\n",
    "            best_reward = temp_best_reward\n",
    "            best_weights = temp_best_weights\n",
    "        policy.weights = best_weights\n",
    "\n",
    "        # Show results during simulation\n",
    "        if i_episode % print_every == 0:\n",
    "            print('Episode {}\\tAverage Score: {:.2f}'.format(i_episode, np.mean(scores_deque)))\n",
    "        if np.mean(scores_deque)>=195.0 and i_episode > 99:\n",
    "            print('Environment solved in {:d} episodes!\\tAverage Score: {:.2f}'.format(i_episode-100, np.mean(scores_deque)))\n",
    "            policy.w = best_weights\n",
    "            break #Break out of episode loop\n",
    "\n",
    "    return scores\n",
    "\n",
    "scores = steepest_ascent()\n"
   ],
   "metadata": {
    "collapsed": false,
    "pycharm": {
     "name": "#%%\n"
    }
   }
  },
  {
   "cell_type": "markdown",
   "source": [
    "### 4. Plot Single Simulation Scores"
   ],
   "metadata": {
    "collapsed": false
   }
  },
  {
   "cell_type": "code",
   "execution_count": 4,
   "outputs": [
    {
     "data": {
      "text/plain": "<Figure size 432x288 with 1 Axes>",
      "image/png": "[encoded data removed]"
     },
     "metadata": {
      "needs_background": "light"
     },
     "output_type": "display_data"
    }
   ],
   "source": [
    "def graph_single(scores, save_graph=True):\n",
    "    fig, ax = plt.subplots()\n",
    "    ax.set(xlabel=\"Episode #\", ylabel=\"Scores\", title=\"Single Simulation Steepest Ascent Hill Climbing\")\n",
    "    plt.plot(np.arange(1, len(scores)+1), scores)\n",
    "    if save_graph:\n",
    "        filepath = f\"C:\\Dev\\Python\\RL\\Policy-Based-Methods\\images\\\\SteepestAscent_single.png\"\n",
    "        fig.savefig(filepath)\n",
    "    plt.show()\n",
    "\n",
    "graph_single(scores)"
   ],
   "metadata": {
    "collapsed": false,
    "pycharm": {
     "name": "#%%\n"
    }
   }
  }
 ],
 "metadata": {
  "kernelspec": {
   "name": "python3",
   "language": "python",
   "display_name": "Python 3"
  },
  "language_info": {
   "codemirror_mode": {
    "name": "ipython",
    "version": 2
   },
   "file_extension": ".py",
   "mimetype": "text/x-python",
   "name": "python",
   "nbconvert_exporter": "python",
   "pygments_lexer": "ipython2",
   "version": "2.7.6"
  }
 },
 "nbformat": 4,
 "nbformat_minor": 0
}
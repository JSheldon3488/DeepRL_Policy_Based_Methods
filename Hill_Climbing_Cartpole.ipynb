{
 "cells": [
  {
   "cell_type": "markdown",
   "metadata": {},
   "source": [
    "# Hill Climbing\n",
    "\n",
    "---\n",
    "\n",
    "This notebook will train an Agent to solve the OpenAI Gym [Cartpole]() environment using vanilla hill climbing. This is a\n",
    "policy based method used to find the optimal policy. [Here](https://en.wikipedia.org/wiki/Hill_climbing) is an explanation of\n",
    "the hill climbing optimization technique. Based on its simplicity, and the fact it could get stuck in local maximums,\n",
    "I expect this algorithm to have stability issues. We will test this by running the simulations with different\n",
    "random seeds and see how the results differ. All results will be saved in the saved_scores directory and can be viewed in\n",
    "the images directory. Also comparisons between agents can be seen by using the comparisons.ipynb."
   ]
  },
  {
   "cell_type": "markdown",
   "metadata": {},
   "source": [
    "### 1. Import the Necessary Packages"
   ]
  },
  {
   "cell_type": "code",
   "execution_count": 1,
   "metadata": {},
   "outputs": [],
   "source": [
    "import gym\n",
    "import numpy as np\n",
    "from collections import deque\n",
    "import matplotlib.pyplot as plt\n",
    "%matplotlib inline"
   ]
  },
  {
   "cell_type": "markdown",
   "metadata": {},
   "source": [
    "### 2. Define the Policy Network"
   ]
  },
  {
   "cell_type": "code",
   "execution_count": 4,
   "metadata": {},
   "outputs": [],
   "source": [
    "class Policy():\n",
    "    \"\"\" Policy Represented as Neural Network \"\"\"\n",
    "    def __init__(self, env, seed=0):\n",
    "        np.random.seed(seed)\n",
    "        self.env = env\n",
    "        self.state_space = env.observation_space.shape[0]\n",
    "        self.action_space = env.action_space.n\n",
    "        self.w = 0.0001*np.random.rand(self.state_space, self.action_space)  # weights for simple linear policy: state_space x action_space\n",
    "        \n",
    "    def forward_pass(self, state):\n",
    "        x = np.dot(state, self.w)\n",
    "        return np.exp(x)/sum(np.exp(x)) #softmax\n",
    "    \n",
    "    def get_action(self, state):\n",
    "        probs = self.forward_pass(state)\n",
    "        #action = np.random.choice(2, p=probs) # option 1: stochastic policy\n",
    "        action = np.argmax(probs)              # option 2: deterministic policy\n",
    "        return action"
   ]
  },
  {
   "cell_type": "markdown",
   "metadata": {},
   "source": [
    "### 3. Train the Agent with Vanilla Hill Climbing"
   ]
  },
  {
   "cell_type": "code",
   "execution_count": 16,
   "metadata": {},
   "outputs": [
    {
     "name": "stdout",
     "output_type": "stream",
     "text": [
      "Episode 100\tAverage Score: 105.33\n",
      "Episode 200\tAverage Score: 180.02\n",
      "Environment solved in 116 episodes!\tAverage Score: 195.34\n"
     ]
    }
   ],
   "source": [
    "env = gym.make('CartPole-v0')\n",
    "policy = Policy(env=env, seed=0)\n",
    "\n",
    "def hill_climbing(n_episodes=1000, max_t=1000, gamma=1.0, print_every=100, noise_scale=0.01):\n",
    "    \"\"\"Implementation of Vanilla Hill Climbing\n",
    "\n",
    "    :param n_episodes: max number of training episodes\n",
    "    :param max_t: max number of timesteps per episode\n",
    "    :param gamma: discount rate\n",
    "    :param print_every: how often to print average score\n",
    "    :param noise_scale: std deviation of additive noise\n",
    "    :return:\n",
    "    \"\"\"\n",
    "    scores_deque = deque(maxlen=100)\n",
    "    scores = []\n",
    "    best_reward = -np.Inf\n",
    "    best_weights = policy.w\n",
    "    for i_episode in range(1, n_episodes+1):\n",
    "        rewards = []\n",
    "\n",
    "        #Single Episode Run to done or max_timestep\n",
    "        state = env.reset()\n",
    "        for t in range(max_t):\n",
    "            action = policy.get_action(state)\n",
    "            state, reward, done, _ = env.step(action)\n",
    "            rewards.append(reward)\n",
    "            if done:\n",
    "                break\n",
    "        # Store results of Single Episode\n",
    "        scores_deque.append(sum(rewards))\n",
    "        scores.append(sum(rewards))\n",
    "        #Calculate Discounted Reward\n",
    "        discounts = [gamma**i for i in range(len(rewards)+1)]\n",
    "        R = sum([a*b for a,b in zip(discounts, rewards)])\n",
    "\n",
    "        # Update Network Weights for next Episode\n",
    "        if R >= best_reward: # found better weights\n",
    "            best_reward = R\n",
    "            best_weights = policy.w\n",
    "            policy.w += noise_scale * np.random.rand(*policy.w.shape)\n",
    "        else: # did not find better weights\n",
    "            policy.w = best_weights + noise_scale * np.random.rand(*policy.w.shape)\n",
    "\n",
    "        if i_episode % print_every == 0:\n",
    "            print('Episode {}\\tAverage Score: {:.2f}'.format(i_episode, np.mean(scores_deque)))\n",
    "        if np.mean(scores_deque)>=195.0:\n",
    "            print('Environment solved in {:d} episodes!\\tAverage Score: {:.2f}'.format(i_episode-100, np.mean(scores_deque)))\n",
    "            policy.w = best_weights\n",
    "            break\n",
    "        \n",
    "    return scores\n",
    "            \n",
    "scores = hill_climbing()"
   ]
  },
  {
   "cell_type": "markdown",
   "metadata": {},
   "source": [
    "### 4. Plot the Scores"
   ]
  },
  {
   "cell_type": "code",
   "execution_count": 15,
   "metadata": {},
   "outputs": [
    {
     "data": {
      "text/plain": "<Figure size 432x288 with 1 Axes>",
      "image/png": "[encoded data removed]"
     },
     "metadata": {
      "needs_background": "light"
     },
     "output_type": "display_data"
    }
   ],
   "source": [
    "fig = plt.figure()\n",
    "ax = fig.add_subplot(111)\n",
    "plt.plot(np.arange(1, len(scores)+1), scores)\n",
    "plt.ylabel('Score')\n",
    "plt.xlabel('Episode #')\n",
    "plt.show()"
   ]
  },
  {
   "cell_type": "markdown",
   "metadata": {},
   "source": [
    "### 5. Watch a Smart Agent!"
   ]
  },
  {
   "cell_type": "code",
   "execution_count": 11,
   "metadata": {},
   "outputs": [],
   "source": [
    "env = gym.make('CartPole-v0')\n",
    "state = env.reset()\n",
    "for t in range(200):\n",
    "    action = policy.get_action(state)\n",
    "    env.render()\n",
    "    state, reward, done, _ = env.step(action)\n",
    "    if done:\n",
    "        break \n",
    "\n",
    "env.close()"
   ]
  }
 ],
 "metadata": {
  "anaconda-cloud": {},
  "kernelspec": {
   "display_name": "Python 3",
   "language": "python",
   "name": "python3"
  },
  "language_info": {
   "codemirror_mode": {
    "name": "ipython",
    "version": 3
   },
   "file_extension": ".py",
   "mimetype": "text/x-python",
   "name": "python",
   "nbconvert_exporter": "python",
   "pygments_lexer": "ipython3",
   "version": "3.6.4"
  }
 },
 "nbformat": 4,
 "nbformat_minor": 2
}
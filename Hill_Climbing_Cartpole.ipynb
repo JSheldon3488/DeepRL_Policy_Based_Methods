{
 "cells": [
  {
   "cell_type": "markdown",
   "metadata": {},
   "source": [
    "# Hill Climbing\n",
    "\n",
    "---\n",
    "\n",
    "This notebook will train an Agent to solve the OpenAI Gym [Cartpole](https://gym.openai.com/envs/CartPole-v0/) environment using vanilla hill climbing. This is a\n",
    "policy based method used to find the optimal policy. [Here](https://en.wikipedia.org/wiki/Hill_climbing) is an explanation of\n",
    "the hill climbing optimization technique. Based on its simplicity, and the fact it could get stuck in local maximums,\n",
    "I expect this algorithm to have stability issues. I will test this by running the simulations with different\n",
    "random seeds and see how the results differ. All results will be saved in the saved_scores directory and can be viewed in\n",
    "the images directory. Also comparisons between agents can be seen by using the comparisons.ipynb."
   ]
  },
  {
   "cell_type": "markdown",
   "metadata": {},
   "source": [
    "### 1. Import the Necessary Packages"
   ]
  },
  {
   "cell_type": "code",
   "execution_count": 8,
   "metadata": {},
   "outputs": [],
   "source": [
    "import gym\n",
    "import numpy as np\n",
    "from collections import deque\n",
    "import matplotlib.pyplot as plt\n",
    "%matplotlib inline\n",
    "from utils import *"
   ]
  },
  {
   "cell_type": "markdown",
   "metadata": {},
   "source": [
    "### 2. Define the Policy Network\n",
    "The policy network is what we use to transform the state into a policy. For vanilla hill climbing this is a very simple linear\n",
    "function that is then ran through a softmax function to generate probabilities. For Vanilla Hill Climbing this policy will\n",
    "be deterministic and choose the max probability over all its action probabilities."
   ]
  },
  {
   "cell_type": "code",
   "execution_count": 9,
   "metadata": {},
   "outputs": [],
   "source": [
    "class Policy():\n",
    "    \"\"\" Policy Represented as Neural Network \"\"\"\n",
    "    def __init__(self, env, seed=0):\n",
    "        \"\"\" Initialize everything you need to run the policy. Note if you want different random starts for the original\n",
    "        weights you need to change the seed when creating the Policy.\n",
    "\n",
    "        :param env: environment this policy will be representing\n",
    "        :param seed: for random weight generation\n",
    "        \"\"\"\n",
    "        np.random.seed(seed)\n",
    "        self.env = env\n",
    "        self.state_space = env.observation_space.shape[0]\n",
    "        self.action_space = env.action_space.n\n",
    "        self.w = 0.0001*np.random.rand(self.state_space, self.action_space)  # weights for simple linear policy: state_space x action_space\n",
    "        \n",
    "    def forward_pass(self, state):\n",
    "        x = np.dot(state, self.w)\n",
    "        return np.exp(x)/sum(np.exp(x)) #softmax\n",
    "    \n",
    "    def get_action(self, state):\n",
    "        probs = self.forward_pass(state)\n",
    "        #action = np.random.choice(2, p=probs) # option 1: stochastic policy\n",
    "        action = np.argmax(probs)              # option 2: deterministic policy\n",
    "        return action"
   ]
  },
  {
   "cell_type": "markdown",
   "metadata": {},
   "source": [
    "### 3. Train the Agent a single time with Vanilla Hill Climbing\n",
    "This is a single simulation of the Vanilla Hill Climbing algorithm. The results probably will differ wildly every time you\n",
    "run this because this is a very unstable learning algorithm. Note that the simulation will be over when the environment is solved. (Average Score of 100 episodes > 195)"
   ]
  },
  {
   "cell_type": "code",
   "execution_count": 10,
   "metadata": {},
   "outputs": [
    {
     "name": "stdout",
     "output_type": "stream",
     "text": [
      "Episode 100\tAverage Score: 86.62\n",
      "Episode 200\tAverage Score: 114.83\n",
      "Episode 300\tAverage Score: 145.62\n",
      "Episode 400\tAverage Score: 148.08\n",
      "Episode 500\tAverage Score: 165.05\n",
      "Episode 600\tAverage Score: 152.09\n",
      "Episode 700\tAverage Score: 137.37\n",
      "Episode 800\tAverage Score: 176.45\n",
      "Episode 900\tAverage Score: 170.10\n",
      "Episode 1000\tAverage Score: 158.93\n",
      "Episode 1100\tAverage Score: 115.81\n",
      "Episode 1200\tAverage Score: 178.34\n",
      "Episode 1300\tAverage Score: 158.91\n",
      "Episode 1400\tAverage Score: 164.07\n",
      "Episode 1500\tAverage Score: 131.31\n",
      "Environment solved in 1488 episodes!\tAverage Score: 195.57\n"
     ]
    }
   ],
   "source": [
    "env = gym.make('CartPole-v0')\n",
    "policy = Policy(env=env, seed=0)\n",
    "\n",
    "def hill_climbing(n_episodes=2000, max_t=1000, gamma=1.0, print_every=100, noise_scale=0.01):\n",
    "    \"\"\"Implementation of Single Vanilla Hill Climbing\n",
    "\n",
    "    :param n_episodes: max number of training episodes\n",
    "    :param max_t: max number of timesteps per episode\n",
    "    :param gamma: discount rate\n",
    "    :param print_every: how often to print average score\n",
    "    :param noise_scale: std deviation of additive noise\n",
    "    :return: list of scores from the episodes\n",
    "    \"\"\"\n",
    "    scores_deque = deque(maxlen=100)\n",
    "    scores = []\n",
    "    best_reward = -np.Inf\n",
    "    best_weights = policy.w\n",
    "    for i_episode in range(1, n_episodes+1):\n",
    "        rewards = []\n",
    "\n",
    "        #Single Episode Run to done or max_timestep\n",
    "        state = env.reset()\n",
    "        for t in range(max_t):\n",
    "            action = policy.get_action(state)\n",
    "            state, reward, done, _ = env.step(action)\n",
    "            rewards.append(reward)\n",
    "            if done:\n",
    "                break\n",
    "        # Store results of Single Episode\n",
    "        scores_deque.append(sum(rewards))\n",
    "        scores.append(sum(rewards))\n",
    "        #Calculate Discounted Reward\n",
    "        discounts = [gamma**i for i in range(len(rewards)+1)]\n",
    "        R = sum([a*b for a,b in zip(discounts, rewards)])\n",
    "\n",
    "        # Update Network Weights for next Episode\n",
    "        if R >= best_reward: # found better weights\n",
    "            best_reward = R\n",
    "            best_weights = policy.w\n",
    "            policy.w += noise_scale * np.random.rand(*policy.w.shape)\n",
    "        else: # did not find better weights\n",
    "            policy.w = best_weights + noise_scale * np.random.rand(*policy.w.shape)\n",
    "\n",
    "        # Show results during simulation\n",
    "        if i_episode % print_every == 0:\n",
    "            print('Episode {}\\tAverage Score: {:.2f}'.format(i_episode, np.mean(scores_deque)))\n",
    "        if np.mean(scores_deque)>=195.0 and i_episode > 99:\n",
    "            print('Environment solved in {:d} episodes!\\tAverage Score: {:.2f}'.format(i_episode-100, np.mean(scores_deque)))\n",
    "            policy.w = best_weights\n",
    "            break\n",
    "        \n",
    "    return scores\n",
    "            \n",
    "scores = hill_climbing()"
   ]
  },
  {
   "cell_type": "markdown",
   "metadata": {},
   "source": [
    "### 4. Plot Single Simulation Scores\n",
    "The results of a single simulation do not tell us much but we can usually see that the variance between episodes is extremely high."
   ]
  },
  {
   "cell_type": "code",
   "execution_count": 11,
   "metadata": {},
   "outputs": [
    {
     "data": {
      "text/plain": "<Figure size 432x288 with 1 Axes>",
      "image/png": "[encoded data removed]"
     },
     "metadata": {
      "needs_background": "light"
     },
     "output_type": "display_data"
    }
   ],
   "source": [
    "def graph_single(scores, save_graph=True):\n",
    "    fig, ax = plt.subplots()\n",
    "    ax.set(xlabel=\"Episode #\", ylabel=\"Scores\", title=\"Single Simulation Vanilla Hill Climbing\")\n",
    "    plt.plot(np.arange(1, len(scores)+1), scores)\n",
    "    if save_graph:\n",
    "        filepath = f\"C:\\Dev\\Python\\RL\\Policy-Based-Methods\\images\\\\vanilla_HillClimbing_single.png\"\n",
    "        fig.savefig(filepath)\n",
    "    plt.show()\n",
    "\n",
    "graph_single(scores)"
   ]
  },
  {
   "cell_type": "markdown",
   "source": [
    "### 5. Run Multiple Simulations to see Agent Stability\n",
    "The goal of this section is to run the agent many times threw the environment and plot how long it takes it to solve the environment.\n",
    "This should give us a good idea of the stability of the algorithm."
   ],
   "metadata": {
    "collapsed": false
   }
  },
  {
   "cell_type": "code",
   "execution_count": 12,
   "outputs": [],
   "source": [
    "def hill_climbing_multiple(num_sims= 1000, n_episodes=2000, max_t=1000, gamma=1.0, print_every=100, noise_scale=0.01):\n",
    "    \"\"\"Implementation of Multiple Vanilla Hill Climbing Simulations with different seed\n",
    "\n",
    "    :param num_sims: number of simulations to run\n",
    "    :param n_episodes: max number of training episodes\n",
    "    :param max_t: max number of timesteps per episode\n",
    "    :param gamma: discount rate\n",
    "    :param print_every: how often to print average score\n",
    "    :param noise_scale: std deviation of additive noise\n",
    "    :return: list of ints of how long it took to solve environment\n",
    "    \"\"\"\n",
    "\n",
    "    solved = [] #keep track of when environment was solved\n",
    "    env = gym.make('CartPole-v0')\n",
    "\n",
    "    for sim in range(num_sims):\n",
    "        #Setup everything (new seed each time)\n",
    "        policy = Policy(env=env, seed=sim)\n",
    "        scores_deque = deque(maxlen=100)\n",
    "        scores = []\n",
    "        best_reward = -np.Inf\n",
    "        best_weights = policy.w\n",
    "\n",
    "        for i_episode in range(1, n_episodes+1):\n",
    "            rewards = []\n",
    "            #Single Episode Run to done or max_timestep\n",
    "            state = env.reset()\n",
    "            for t in range(max_t):\n",
    "                action = policy.get_action(state)\n",
    "                state, reward, done, _ = env.step(action)\n",
    "                rewards.append(reward)\n",
    "                if done:\n",
    "                    break\n",
    "            # Store results of Single Episode\n",
    "            scores_deque.append(sum(rewards))\n",
    "            scores.append(sum(rewards))\n",
    "\n",
    "            #Calculate Discounted Reward\n",
    "            discounts = [gamma**i for i in range(len(rewards)+1)]\n",
    "            R = sum([a*b for a,b in zip(discounts, rewards)])\n",
    "            # Update Network Weights for next Episode\n",
    "            if R >= best_reward: # found better weights\n",
    "                best_reward = R\n",
    "                best_weights = policy.w\n",
    "                policy.w += noise_scale * np.random.rand(*policy.w.shape)\n",
    "            else: # did not find better weights\n",
    "                policy.w = best_weights + noise_scale * np.random.rand(*policy.w.shape)\n",
    "\n",
    "            # Checking if solved and saving when it was solved\n",
    "            if np.mean(scores_deque)>=195.0 and i_episode > 99:\n",
    "                solved.append(i_episode)\n",
    "                policy.w = best_weights\n",
    "                break\n",
    "            # Didn't solve\n",
    "            if i_episode == n_episodes:\n",
    "                solved.append(i_episode)\n",
    "\n",
    "    return solved\n",
    "\n",
    "solved = hill_climbing_multiple()\n",
    "write_scores(\"HillClimbing_Solved\", solved)"
   ],
   "metadata": {
    "collapsed": false,
    "pycharm": {
     "name": "#%%\n"
    }
   }
  },
  {
   "cell_type": "markdown",
   "source": [
    "### 6. Plot Multiple Simulation Scores\n",
    "This graph gives us a good idea of how stable the algorithm is. The high frequency at 2000 is mostly episodes that did\n",
    "not solve the environment."
   ],
   "metadata": {
    "collapsed": false
   }
  },
  {
   "cell_type": "code",
   "execution_count": 13,
   "outputs": [
    {
     "data": {
      "text/plain": "<Figure size 432x288 with 1 Axes>",
      "image/png": "[encoded data removed]"
     },
     "metadata": {
      "needs_background": "light"
     },
     "output_type": "display_data"
    }
   ],
   "source": [
    "def graph_multiple(scores, save_graph=True):\n",
    "    # Calculate the Mean and Standard Deviation of the scores\n",
    "    mean = round(np.mean(scores),1)\n",
    "    std = round(np.std(scores),1)\n",
    "\n",
    "    # Graph the Results\n",
    "    fig, ax = plt.subplots()\n",
    "    n, bins, patches = ax.hist(scores, 40)\n",
    "    ax.set(xlabel=\"Episodes required to solve\", ylabel=\"Frequency\", title=f\"Vanilla Hill Climbing Simulations: $\\mu={mean}$, $\\sigma={std}$\")\n",
    "    fig.tight_layout()\n",
    "\n",
    "    # Save the Graph\n",
    "    if save_graph:\n",
    "        filepath = f\"C:\\Dev\\Python\\RL\\Policy-Based-Methods\\images\\\\vanilla_HillClimbing_multiple.png\"\n",
    "        fig.savefig(filepath)\n",
    "\n",
    "    plt.show()\n",
    "\n",
    "scores = load_scores(f\"C:\\Dev\\Python\\RL\\Policy-Based-Methods\\saved_scores\\HillClimbing_Solved.txt\")\n",
    "graph_multiple(scores)\n"
   ],
   "metadata": {
    "collapsed": false,
    "pycharm": {
     "name": "#%%\n"
    }
   }
  },
  {
   "cell_type": "markdown",
   "metadata": {},
   "source": [
    "### 7. Watch a Smart Agent!"
   ]
  },
  {
   "cell_type": "code",
   "execution_count": 14,
   "metadata": {},
   "outputs": [],
   "source": [
    "env = gym.make('CartPole-v0')\n",
    "state = env.reset()\n",
    "for t in range(200):\n",
    "    action = policy.get_action(state)\n",
    "    env.render()\n",
    "    state, reward, done, _ = env.step(action)\n",
    "    if done:\n",
    "        break \n",
    "\n",
    "env.close()"
   ]
  }
 ],
 "metadata": {
  "anaconda-cloud": {},
  "kernelspec": {
   "display_name": "Python 3",
   "language": "python",
   "name": "python3"
  },
  "language_info": {
   "codemirror_mode": {
    "name": "ipython",
    "version": 3
   },
   "file_extension": ".py",
   "mimetype": "text/x-python",
   "name": "python",
   "nbconvert_exporter": "python",
   "pygments_lexer": "ipython3",
   "version": "3.6.4"
  }
 },
 "nbformat": 4,
 "nbformat_minor": 2
}